{
 "cells": [
  {
   "cell_type": "markdown",
   "id": "9bc9c89e-3174-40bd-9885-e12339b11691",
   "metadata": {},
   "source": [
    "# Applications."
   ]
  },
  {
   "cell_type": "code",
   "execution_count": 1,
   "id": "dfd47055-fe5e-4d2a-83e2-27ae8afdbdfc",
   "metadata": {
    "height": 46
   },
   "outputs": [],
   "source": [
    "def json_print(data):\n",
    "    print(json.dumps(data, indent=2))"
   ]
  },
  {
   "cell_type": "code",
   "execution_count": 2,
   "id": "8f840bfe-d592-414e-90ce-a04dfc3cd87e",
   "metadata": {
    "height": 317
   },
   "outputs": [
    {
     "data": {
      "text/plain": [
       "True"
      ]
     },
     "execution_count": 2,
     "metadata": {},
     "output_type": "execute_result"
    }
   ],
   "source": [
    "import weaviate, os, json\n",
    "import openai\n",
    "from dotenv import load_dotenv, find_dotenv\n",
    "_ = load_dotenv(find_dotenv()) # read local .env file\n",
    "\n",
    "auth_config = weaviate.auth.AuthApiKey(api_key=os.getenv(\"WEAVIATE_API_KEY\"))\n",
    "\n",
    "client = weaviate.Client(\n",
    "    url=os.getenv(\"WEAVIATE_API_URL\"),\n",
    "    auth_client_secret=auth_config,\n",
    "    additional_headers={\n",
    "        \"X-Cohere-Api-Key\": os.getenv(\"COHERE_API_KEY\"),\n",
    "        \"X-Cohere-BaseURL\": os.getenv(\"CO_API_URL\")\n",
    "    }\n",
    ")\n",
    "\n",
    "client.is_ready() #check if True"
   ]
  },
  {
   "cell_type": "markdown",
   "id": "7226230a-0070-4083-8d21-f2b0a7297ba4",
   "metadata": {},
   "source": [
    "### 2. How many vectors are stored in this database"
   ]
  },
  {
   "cell_type": "code",
   "execution_count": 3,
   "id": "c25dd1d9-004e-47bf-9e4d-dc0ed837ccac",
   "metadata": {
    "height": 45
   },
   "outputs": [
    {
     "name": "stdout",
     "output_type": "stream",
     "text": [
      "{\n",
      "  \"data\": {\n",
      "    \"Aggregate\": {\n",
      "      \"Wikipedia\": [\n",
      "        {\n",
      "          \"meta\": {\n",
      "            \"count\": 4306800\n",
      "          }\n",
      "        }\n",
      "      ]\n",
      "    }\n",
      "  }\n",
      "}\n"
     ]
    }
   ],
   "source": [
    "print(json.dumps(client.query.aggregate(\"Wikipedia\").with_meta_count().do(), indent=2))"
   ]
  },
  {
   "cell_type": "markdown",
   "id": "e25de586-0e84-4658-9acf-4d39a09755bb",
   "metadata": {},
   "source": [
    "### 3. Perform search over them to find concepts you are interested in!"
   ]
  },
  {
   "cell_type": "code",
   "execution_count": 4,
   "id": "c2580bd6-6d7a-40e8-b301-1a656bc3b95c",
   "metadata": {
    "height": 164
   },
   "outputs": [
    {
     "name": "stdout",
     "output_type": "stream",
     "text": [
      "{\n",
      "  \"data\": {\n",
      "    \"Get\": {\n",
      "      \"Wikipedia\": [\n",
      "        {\n",
      "          \"lang\": \"en\",\n",
      "          \"text\": \"Many locals and tourists frequent the Southern California coast for its beaches. Some of southern California's most popular beaches are Malibu, Laguna Beach, La Jolla, Manhattan Beach, and Hermosa Beach. Southern California is also known for its mountain resort communities, such as Big Bear Lake, Lake Arrowhead, and Wrightwood, and their ski resorts, like Bear Mountain, Snow Summit, Snow Valley Mountain Resort, and Mountain High. The inland desert city of Palm Springs is also popular.\",\n",
      "          \"title\": \"Southern California\",\n",
      "          \"url\": \"https://en.wikipedia.org/wiki?curid=62520\",\n",
      "          \"views\": 2000\n",
      "        },\n",
      "        {\n",
      "          \"lang\": \"en\",\n",
      "          \"text\": \"Carbon Beach, Surfrider Beach, Westward Beach, Escondido Beach, Paradise Cove, Point Dume, Pirates Cove, Zuma Beach, Trancas and Encinal Bluffs are places along the coast in Malibu. Point Dume forms the northern end of the Santa Monica Bay, and Point Dume Headlands Park affords a vista stretching to the Palos Verdes Peninsula and Santa Catalina Island. Directly below the park, on the western side of the point, is Pirates Cove. Because of its relative seclusion, Pirates Cove was previously used as a nude beach, but since nudity is now illegal on all beaches in Los Angeles County, nude sunbathers are subject to fines and/or arrest.\",\n",
      "          \"title\": \"Malibu, California\",\n",
      "          \"url\": \"https://en.wikipedia.org/wiki?curid=107655\",\n",
      "          \"views\": 2000\n",
      "        },\n",
      "        {\n",
      "          \"lang\": \"fr\",\n",
      "          \"text\": \"Les plages et parcs c\\u00f4tiers principaux sont \\\"Trinidad State Beach\\\", \\\"Torrey Pines State Reserve\\\", le \\\"Cabrillo National Monument\\\". Les touristes se dirigent aussi vers les missions espagnoles, le \\\"Donner Memorial State Park\\\", le \\\"Bodie Historic State Park\\\", le parc national de Sequoia et le parc d'\\u00c9tat de Humboldt Redwoods.\",\n",
      "          \"title\": \"Californie\",\n",
      "          \"url\": \"https://fr.wikipedia.org/wiki?curid=623\",\n",
      "          \"views\": 2000\n",
      "        },\n",
      "        {\n",
      "          \"lang\": \"es\",\n",
      "          \"text\": \"Oeste: Burlingame, Hillcrest, Linda Vista, Midtown, Midway, Mission Hills, Mission Valley West, Morena, North Park, Ocean Beach, Old Town, Pacific Beach, Point Loma (incluyendo a Roseville-Fleetridge, Shelter Island, Sunset Cliffs, La Playa y University Heights).\",\n",
      "          \"title\": \"San Diego (California)\",\n",
      "          \"url\": \"https://es.wikipedia.org/wiki?curid=117310\",\n",
      "          \"views\": 1000\n",
      "        },\n",
      "        {\n",
      "          \"lang\": \"es\",\n",
      "          \"text\": \"Entre sus playas m\\u00e1s importantes se encuentran Surfrider Beach, Zuma Beach, Malibu State Beach y Topanga State Beach; entre sus parques m\\u00e1s cercanos est\\u00e1n el Parque estatal del arroyo Malib\\u00fa (\\\"Malibu Creek State Park\\\"), \\u00c1rea recreativa nacional de las monta\\u00f1as de Santa M\\u00f3nica (\\\"Santa Monica Mountains National Recreation Area\\\") y Cueva Paradise (\\\"Paradise Cove\\\"), donde se han rodado muchas pel\\u00edculas.\",\n",
      "          \"title\": \"Malib\\u00fa (California)\",\n",
      "          \"url\": \"https://es.wikipedia.org/wiki?curid=656653\",\n",
      "          \"views\": 900\n",
      "        }\n",
      "      ]\n",
      "    }\n",
      "  }\n",
      "}\n"
     ]
    }
   ],
   "source": [
    "response = (client.query\n",
    "            .get(\"Wikipedia\",['text','title','url','views','lang'])\n",
    "            .with_near_text({\"concepts\": \"Vacation spots in california\"})\n",
    "            .with_limit(5)\n",
    "            .do()\n",
    "           )\n",
    "\n",
    "json_print(response)"
   ]
  },
  {
   "cell_type": "code",
   "execution_count": 5,
   "id": "1b27c2ba-c8fe-40e1-8457-5c7217bf28e2",
   "metadata": {
    "height": 249
   },
   "outputs": [
    {
     "name": "stdout",
     "output_type": "stream",
     "text": [
      "{\n",
      "  \"data\": {\n",
      "    \"Get\": {\n",
      "      \"Wikipedia\": [\n",
      "        {\n",
      "          \"lang\": \"en\",\n",
      "          \"text\": \"Many locals and tourists frequent the Southern California coast for its beaches. Some of southern California's most popular beaches are Malibu, Laguna Beach, La Jolla, Manhattan Beach, and Hermosa Beach. Southern California is also known for its mountain resort communities, such as Big Bear Lake, Lake Arrowhead, and Wrightwood, and their ski resorts, like Bear Mountain, Snow Summit, Snow Valley Mountain Resort, and Mountain High. The inland desert city of Palm Springs is also popular.\",\n",
      "          \"title\": \"Southern California\",\n",
      "          \"url\": \"https://en.wikipedia.org/wiki?curid=62520\",\n",
      "          \"views\": 2000\n",
      "        },\n",
      "        {\n",
      "          \"lang\": \"en\",\n",
      "          \"text\": \"Carbon Beach, Surfrider Beach, Westward Beach, Escondido Beach, Paradise Cove, Point Dume, Pirates Cove, Zuma Beach, Trancas and Encinal Bluffs are places along the coast in Malibu. Point Dume forms the northern end of the Santa Monica Bay, and Point Dume Headlands Park affords a vista stretching to the Palos Verdes Peninsula and Santa Catalina Island. Directly below the park, on the western side of the point, is Pirates Cove. Because of its relative seclusion, Pirates Cove was previously used as a nude beach, but since nudity is now illegal on all beaches in Los Angeles County, nude sunbathers are subject to fines and/or arrest.\",\n",
      "          \"title\": \"Malibu, California\",\n",
      "          \"url\": \"https://en.wikipedia.org/wiki?curid=107655\",\n",
      "          \"views\": 2000\n",
      "        },\n",
      "        {\n",
      "          \"lang\": \"en\",\n",
      "          \"text\": \"The coastlines of Mexico harbor many stretches of beaches that are frequented by sunbathers and other visitors. According to national law, the entirety of the coastlines are under federal ownership, that is, all beaches in the country are public. On the Yucat\\u00e1n peninsula, one of the most popular beach destinations is the resort town of Canc\\u00fan, especially among university students during spring break. Just offshore is the beach island of Isla Mujeres, and to the east is the Isla Holbox. To the south of Cancun is the coastal strip called Riviera Maya which includes the beach town of Playa del Carmen and the ecological parks of Xcaret and Xel-H\\u00e1. A day trip to the south of Canc\\u00fan is the historic port of Tulum. In addition to its beaches, the town of Tulum is notable for its cliff-side Mayan ruins. On the Pacific coast is the notable tourist destination of Acapulco. Once the destination for the rich and famous, the beaches have become crowded and the shores are now home to many multi-story hotels and vendors. Acapulco is home to renowned cliff divers: trained divers who leap from the side of a vertical cliff into the surf below. At the southern tip of the Baja California peninsula is the resort town of Cabo San Lucas, a town noted for its beaches and marlin fishing. Further north along the Sea of Cort\\u00e9s is the Bah\\u00eda de La Concepci\\u00f3n, another beach town known for its sports fishing. Closer to the United States border is the weekend draw of San Felipe, Baja California.\",\n",
      "          \"title\": \"Mexico\",\n",
      "          \"url\": \"https://en.wikipedia.org/wiki?curid=3966054\",\n",
      "          \"views\": 3000\n",
      "        }\n",
      "      ]\n",
      "    }\n",
      "  }\n",
      "}\n"
     ]
    }
   ],
   "source": [
    "response = (client.query\n",
    "            .get(\"Wikipedia\",['text','title','url','views','lang'])\n",
    "            .with_near_text({\"concepts\": \"Vacation spots in california\"})\n",
    "            .with_where({\n",
    "                \"path\" : ['lang'],\n",
    "                \"operator\" : \"Equal\",\n",
    "                \"valueString\":'en'\n",
    "            })\n",
    "            .with_limit(3)\n",
    "            .do()\n",
    "           )\n",
    "\n",
    "json_print(response)"
   ]
  },
  {
   "cell_type": "code",
   "execution_count": 6,
   "id": "efc9d5cc-66e8-4650-8de0-331e899fb123",
   "metadata": {
    "height": 249
   },
   "outputs": [
    {
     "name": "stdout",
     "output_type": "stream",
     "text": [
      "{\n",
      "  \"data\": {\n",
      "    \"Get\": {\n",
      "      \"Wikipedia\": [\n",
      "        {\n",
      "          \"lang\": \"en\",\n",
      "          \"text\": \"Many locals and tourists frequent the Southern California coast for its beaches. Some of southern California's most popular beaches are Malibu, Laguna Beach, La Jolla, Manhattan Beach, and Hermosa Beach. Southern California is also known for its mountain resort communities, such as Big Bear Lake, Lake Arrowhead, and Wrightwood, and their ski resorts, like Bear Mountain, Snow Summit, Snow Valley Mountain Resort, and Mountain High. The inland desert city of Palm Springs is also popular.\",\n",
      "          \"title\": \"Southern California\",\n",
      "          \"url\": \"https://en.wikipedia.org/wiki?curid=62520\",\n",
      "          \"views\": 2000\n",
      "        },\n",
      "        {\n",
      "          \"lang\": \"en\",\n",
      "          \"text\": \"Malibu has been used as a location or setting for many films, television programs, fashion shoots and music videos.\",\n",
      "          \"title\": \"Malibu, California\",\n",
      "          \"url\": \"https://en.wikipedia.org/wiki?curid=107655\",\n",
      "          \"views\": 2000\n",
      "        },\n",
      "        {\n",
      "          \"lang\": \"en\",\n",
      "          \"text\": \"The coastlines of Mexico harbor many stretches of beaches that are frequented by sunbathers and other visitors. According to national law, the entirety of the coastlines are under federal ownership, that is, all beaches in the country are public. On the Yucat\\u00e1n peninsula, one of the most popular beach destinations is the resort town of Canc\\u00fan, especially among university students during spring break. Just offshore is the beach island of Isla Mujeres, and to the east is the Isla Holbox. To the south of Cancun is the coastal strip called Riviera Maya which includes the beach town of Playa del Carmen and the ecological parks of Xcaret and Xel-H\\u00e1. A day trip to the south of Canc\\u00fan is the historic port of Tulum. In addition to its beaches, the town of Tulum is notable for its cliff-side Mayan ruins. On the Pacific coast is the notable tourist destination of Acapulco. Once the destination for the rich and famous, the beaches have become crowded and the shores are now home to many multi-story hotels and vendors. Acapulco is home to renowned cliff divers: trained divers who leap from the side of a vertical cliff into the surf below. At the southern tip of the Baja California peninsula is the resort town of Cabo San Lucas, a town noted for its beaches and marlin fishing. Further north along the Sea of Cort\\u00e9s is the Bah\\u00eda de La Concepci\\u00f3n, another beach town known for its sports fishing. Closer to the United States border is the weekend draw of San Felipe, Baja California.\",\n",
      "          \"title\": \"Mexico\",\n",
      "          \"url\": \"https://en.wikipedia.org/wiki?curid=3966054\",\n",
      "          \"views\": 3000\n",
      "        }\n",
      "      ]\n",
      "    }\n",
      "  }\n",
      "}\n"
     ]
    }
   ],
   "source": [
    "response = (client.query\n",
    "            .get(\"Wikipedia\",['text','title','url','views','lang'])\n",
    "            .with_near_text({\"concepts\": \"Miejsca na wakacje w Kalifornii\"})\n",
    "            .with_where({\n",
    "                \"path\" : ['lang'],\n",
    "                \"operator\" : \"Equal\",\n",
    "                \"valueString\":'en'\n",
    "            })\n",
    "            .with_limit(3)\n",
    "            .do()\n",
    "           )\n",
    "\n",
    "json_print(response)"
   ]
  },
  {
   "cell_type": "code",
   "execution_count": 7,
   "id": "1290303f-6833-4737-acf3-8ded3144aaaa",
   "metadata": {
    "height": 249
   },
   "outputs": [
    {
     "name": "stdout",
     "output_type": "stream",
     "text": [
      "{\n",
      "  \"data\": {\n",
      "    \"Get\": {\n",
      "      \"Wikipedia\": [\n",
      "        {\n",
      "          \"lang\": \"en\",\n",
      "          \"text\": \"Many locals and tourists frequent the Southern California coast for its beaches. Some of southern California's most popular beaches are Malibu, Laguna Beach, La Jolla, Manhattan Beach, and Hermosa Beach. Southern California is also known for its mountain resort communities, such as Big Bear Lake, Lake Arrowhead, and Wrightwood, and their ski resorts, like Bear Mountain, Snow Summit, Snow Valley Mountain Resort, and Mountain High. The inland desert city of Palm Springs is also popular.\",\n",
      "          \"title\": \"Southern California\",\n",
      "          \"url\": \"https://en.wikipedia.org/wiki?curid=62520\",\n",
      "          \"views\": 2000\n",
      "        },\n",
      "        {\n",
      "          \"lang\": \"en\",\n",
      "          \"text\": \"The park is located east of Webb Way, and between Civic Center Way on the north and PCH to the south. It was the site of the annual Labor Day Weekend Kiwanis Club Chili Cook-Off from 1982 to 2009 (in 2010, the Chili Cook-Off and Carnival went on as usual, but moved to still-open land across Civic Center Way, on the Ioki property, at the corner of Civic Center Way and Stuart Ranch Road). Further back, it was agricultural land, planted in geraniums, other flowers and vegetables by the Takahashi family since 1924.\",\n",
      "          \"title\": \"Malibu, California\",\n",
      "          \"url\": \"https://en.wikipedia.org/wiki?curid=107655\",\n",
      "          \"views\": 2000\n",
      "        },\n",
      "        {\n",
      "          \"lang\": \"en\",\n",
      "          \"text\": \"Often chosen as a winter training location for professional cycling teams and snowbirds, Santa Barbara has cycling routes and several climbs, including Gibraltar Road and Old San Marcos/Painted Cave. A bike path and route connects the University of California, Santa Barbara to the downtown area, passing through Goleta and Hope Ranch. Bike rentals are a way for tourists to view Santa Barbara and the surrounding area. In 2009, the Santa Barbara-Santa Maria-Goleta metropolitan statistical area (MSA) ranked as the sixth highest in the United States for percentage of commuters who biked to work (4 percent).\",\n",
      "          \"title\": \"Santa Barbara, California\",\n",
      "          \"url\": \"https://en.wikipedia.org/wiki?curid=108139\",\n",
      "          \"views\": 2000\n",
      "        }\n",
      "      ]\n",
      "    }\n",
      "  }\n",
      "}\n"
     ]
    }
   ],
   "source": [
    "response = (client.query\n",
    "            .get(\"Wikipedia\",['text','title','url','views','lang'])\n",
    "            .with_near_text({\"concepts\": \"أماكن العطلات في كاليفورنيا\"})\n",
    "            .with_where({\n",
    "                \"path\" : ['lang'],\n",
    "                \"operator\" : \"Equal\",\n",
    "                \"valueString\":'en'\n",
    "            })\n",
    "            .with_limit(3)\n",
    "            .do()\n",
    "           )\n",
    "\n",
    "json_print(response)"
   ]
  },
  {
   "cell_type": "markdown",
   "id": "1756b652-257d-4cca-95e3-f40870884113",
   "metadata": {},
   "source": [
    "## Retrieval Augmented Generation"
   ]
  },
  {
   "cell_type": "markdown",
   "id": "14074da1-1038-4fad-8241-1ba8db8200a2",
   "metadata": {},
   "source": [
    "### Single Prompt"
   ]
  },
  {
   "cell_type": "code",
   "execution_count": 8,
   "id": "4d40ce8d-a785-4f47-9497-5cc102ec4349",
   "metadata": {
    "height": 232
   },
   "outputs": [
    {
     "name": "stdout",
     "output_type": "stream",
     "text": [
      "{\n",
      "  \"data\": {\n",
      "    \"Get\": {\n",
      "      \"Wikipedia\": [\n",
      "        {\n",
      "          \"_additional\": {\n",
      "            \"generate\": {\n",
      "              \"error\": null,\n",
      "              \"singleResult\": \" Looking for a getaway to paradise? Look no further than Southern California! With breathtaking beaches, stunning mountain resorts, and sunny desert cities, there's something for everyone to enjoy in this beautiful region.\\n\\nFamous for its surf culture, SoCal is home to some of the most gorgeous beaches in the world, including Malibu, Laguna Beach, La Jolla, Manhattan Beach, and Hermosa Beach. But there's more to Southern California than just its stunning coastline. Head inland and you'll discover mountain resort communities like Big Bear Lake, Lake Arrowhead, and Wrightwood, which offer a plethora of winter activities at their ski resorts, including Bear Mountain, Snow Summit, Snow Valley Mountain Resort, and Mountain High. And don't miss the vibrant city of Palm Springs, a desert haven for travelers looking for a little bit of everything, from relaxing golf retreats to unforgettable hikes and explorations of the surrounding desert landscape.\\n\\nThere's never been a better time to start planning your dream vacation to Southern California. Whether you're looking for a relaxing beach getaway or an adventurous mountain escape, SoCal has something for everyone. Come and see why this breathtaking region is loved by locals and tourists alike! \\n\\nSouthern California is calling your name. Will you answer? \\n\\nClick here to start planning your trip today! \\n\\n#SoCal #Vacation #Beaches #Mountains #Skiing #PalmSprings #TravelGoals #DreamVacation\"\n",
      "            }\n",
      "          },\n",
      "          \"text\": \"Many locals and tourists frequent the Southern California coast for its beaches. Some of southern California's most popular beaches are Malibu, Laguna Beach, La Jolla, Manhattan Beach, and Hermosa Beach. Southern California is also known for its mountain resort communities, such as Big Bear Lake, Lake Arrowhead, and Wrightwood, and their ski resorts, like Bear Mountain, Snow Summit, Snow Valley Mountain Resort, and Mountain High. The inland desert city of Palm Springs is also popular.\",\n",
      "          \"title\": \"Southern California\"\n",
      "        },\n",
      "        {\n",
      "          \"_additional\": {\n",
      "            \"generate\": {\n",
      "              \"error\": null,\n",
      "              \"singleResult\": \" Looking for your next adventure? Located in California, Malibu has many breathtaking beaches, parks, and nature preserves waiting for you to explore! From the stunning vistas at Point Dume Headlands Park to the thrilling surf at Surfrider Beach, there's something for everyone to enjoy. Dive into the crystal-clear waters of Paradise Cove, or relax on the warm sand of Carbon Beach. \\n\\nMalibu's beaches offer prime opportunities for surfing, snorkeling, and sunbathing. Plus, visit Escondido Beach or Westward Beach for a family-friendly atmosphere. Adventure seekers shouldn't miss out on Point Dume's Pirates Cove, where you can explore the area's unique history as a former nude beach. Just remember, nudity is now illegal on all Los Angeles County beaches, so dress accordingly!\\n\\nWhether you're looking for a relaxing day at the beach or an exhilarating adventure, Malibu's beaches and parks have something for everyone. So come down to Malibu and experience the ultimate California lifestyle!\\n\\nCopyright 2023. All rights reserved. \\n\\nLearn more about Malibu's beaches and attractions:\\n- Carbon Beach\\n- Surfrider Beach\\n- Westward Beach\\n- Escondido Beach\\n- Paradise Cove\\n- Point Dume\\n- Pirates Cove\\n- Zuma Beach\\n- Trancas\\n- Encinal Bluffs\\n\\nDid you know that Point Dume forms the northern end of the Santa Monica Bay? The Point Dume Headlands Park offers breathtaking views stretching all the way to the Palos Verdes Peninsula and Santa Catalina Island! Directly below the park, you can find Pirates Cove, which owing to its secluded nature, used to be a nude beach. Though note that nudity is now illegal on all beaches in Los Angeles County, so beware! \\n\\nCome visit Malibu and see why it's a destination that everyone's raving about!\"\n",
      "            }\n",
      "          },\n",
      "          \"text\": \"Carbon Beach, Surfrider Beach, Westward Beach, Escondido Beach, Paradise Cove, Point Dume, Pirates Cove, Zuma Beach, Trancas and Encinal Bluffs are places along the coast in Malibu. Point Dume forms the northern end of the Santa Monica Bay, and Point Dume Headlands Park affords a vista stretching to the Palos Verdes Peninsula and Santa Catalina Island. Directly below the park, on the western side of the point, is Pirates Cove. Because of its relative seclusion, Pirates Cove was previously used as a nude beach, but since nudity is now illegal on all beaches in Los Angeles County, nude sunbathers are subject to fines and/or arrest.\",\n",
      "          \"title\": \"Malibu, California\"\n",
      "        },\n",
      "        {\n",
      "          \"_additional\": {\n",
      "            \"generate\": {\n",
      "              \"error\": null,\n",
      "              \"singleResult\": \" Are you ready to explore some of the most stunning beaches and coastal parks that California has to offer? From breathtaking scenery to exciting historical sites, California has something for everyone. Visit the principal coastal parks like Trinidad State Beach, Torrey Pines State Reserve, and Cabrillo National Monument, or check out the Spanish missions, including the Donner Memorial State Park and Bodie Historic State Park. And don't miss the chance to stand in awe of the giant trees at the Sequoia National Park and Humboldt Redwoods State Park. Start planning your trip today and experience the beauty of California's coastline and beyond! \\n\\nCalifornie est l'une des r\\u00e9gions les plus visit\\u00e9es dans le monde, surtout \\u00e0 cause de ses plages immenses et ses parcs splendides. En savoir plus sur les endroits les plus int\\u00e9ressants \\u00e0 visiter, de la c\\u00f4te \\u00e0 l'int\\u00e9rieur!\"\n",
      "            }\n",
      "          },\n",
      "          \"text\": \"Les plages et parcs c\\u00f4tiers principaux sont \\\"Trinidad State Beach\\\", \\\"Torrey Pines State Reserve\\\", le \\\"Cabrillo National Monument\\\". Les touristes se dirigent aussi vers les missions espagnoles, le \\\"Donner Memorial State Park\\\", le \\\"Bodie Historic State Park\\\", le parc national de Sequoia et le parc d'\\u00c9tat de Humboldt Redwoods.\",\n",
      "          \"title\": \"Californie\"\n",
      "        }\n",
      "      ]\n",
      "    }\n",
      "  }\n",
      "}\n"
     ]
    }
   ],
   "source": [
    "prompt = \"Write me a facebook ad about {title} using information inside {text}\"\n",
    "result = (\n",
    "  client.query\n",
    "  .get(\"Wikipedia\", [\"title\",\"text\"])\n",
    "  .with_generate(single_prompt=prompt)\n",
    "  .with_near_text({\n",
    "    \"concepts\": [\"Vacation spots in california\"]\n",
    "  })\n",
    "  .with_limit(3)\n",
    ").do()\n",
    "\n",
    "json_print(result)"
   ]
  },
  {
   "cell_type": "markdown",
   "id": "2b3a82f0-89e8-4ddb-8973-1bc84d3e10ee",
   "metadata": {},
   "source": [
    "### Group Task"
   ]
  },
  {
   "cell_type": "code",
   "execution_count": 9,
   "id": "06097742-ed4b-4a6f-94a3-3c85d2bbba0c",
   "metadata": {
    "height": 266
   },
   "outputs": [
    {
     "name": "stdout",
     "output_type": "stream",
     "text": [
      "{\n",
      "  \"data\": {\n",
      "    \"Get\": {\n",
      "      \"Wikipedia\": [\n",
      "        {\n",
      "          \"_additional\": {\n",
      "            \"generate\": {\n",
      "              \"error\": null,\n",
      "              \"groupedResult\": \" The first post is about Southern California and all it has to offer to locals and tourists alike. It is known for its beaches, mountain resort communities, and desert cities. Some of the most popular beaches in Southern California include Malibu, Laguna Beach, La Jolla, Manhattan Beach, and Hermosa Beach; while the mountain resort communities boast Big Bear Lake, Lake Arrowhead, and Wrightwood, with their ski resorts. Palm Springs, an inland desert city, is also a popular tourist destination. \\n\\nThe second post is specifically about Malibu, a beach city in Los Angeles County, and mentions some of the beaches along the coast including Carbon Beach, Surfrider Beach, Westward Beach, Escondido Beach, Paradise Cove, Point Dume, Pirates Cove, Zuma Beach, Trancas, and Encinal Bluffs. It points out that Point Dume is at the northern end of the Santa Monica Bay, and that Point Dume Headlands Park provides a vista looking all the way to the Palos Verdes Peninsula and Santa Catalina Island. Pirates Cove, due to its secluded nature, used to be a nude beach but current laws in Los Angeles County have made it illegal to be naked on beaches and anyone caught sunbathing naked is subject to fines or arrest. \\n\\nThe third post is in French and talks about the main tourist attractions in California, specifically its beaches and coastal parks. It mentions several beaches and parks including Trinidad State Beach, Torrey Pines State Reserve, Cabrillo National Monument, Donner Memorial State Park, Bodie Historic State Park, Sequoia National Park, and Humboldt Redwoods State Park. \\n\\nWould you like me to translate the third paragraph into English? \"\n",
      "            }\n",
      "          },\n",
      "          \"text\": \"Many locals and tourists frequent the Southern California coast for its beaches. Some of southern California's most popular beaches are Malibu, Laguna Beach, La Jolla, Manhattan Beach, and Hermosa Beach. Southern California is also known for its mountain resort communities, such as Big Bear Lake, Lake Arrowhead, and Wrightwood, and their ski resorts, like Bear Mountain, Snow Summit, Snow Valley Mountain Resort, and Mountain High. The inland desert city of Palm Springs is also popular.\",\n",
      "          \"title\": \"Southern California\"\n",
      "        },\n",
      "        {\n",
      "          \"_additional\": {\n",
      "            \"generate\": null\n",
      "          },\n",
      "          \"text\": \"Carbon Beach, Surfrider Beach, Westward Beach, Escondido Beach, Paradise Cove, Point Dume, Pirates Cove, Zuma Beach, Trancas and Encinal Bluffs are places along the coast in Malibu. Point Dume forms the northern end of the Santa Monica Bay, and Point Dume Headlands Park affords a vista stretching to the Palos Verdes Peninsula and Santa Catalina Island. Directly below the park, on the western side of the point, is Pirates Cove. Because of its relative seclusion, Pirates Cove was previously used as a nude beach, but since nudity is now illegal on all beaches in Los Angeles County, nude sunbathers are subject to fines and/or arrest.\",\n",
      "          \"title\": \"Malibu, California\"\n",
      "        },\n",
      "        {\n",
      "          \"_additional\": {\n",
      "            \"generate\": null\n",
      "          },\n",
      "          \"text\": \"Les plages et parcs c\\u00f4tiers principaux sont \\\"Trinidad State Beach\\\", \\\"Torrey Pines State Reserve\\\", le \\\"Cabrillo National Monument\\\". Les touristes se dirigent aussi vers les missions espagnoles, le \\\"Donner Memorial State Park\\\", le \\\"Bodie Historic State Park\\\", le parc national de Sequoia et le parc d'\\u00c9tat de Humboldt Redwoods.\",\n",
      "          \"title\": \"Californie\"\n",
      "        }\n",
      "      ]\n",
      "    }\n",
      "  }\n",
      "}\n"
     ]
    }
   ],
   "source": [
    "generate_prompt = \"Summarize what these posts are about in two paragraphs.\"\n",
    "\n",
    "result = (\n",
    "  client.query\n",
    "  .get(\"Wikipedia\", [\"title\",\"text\"])\n",
    "  .with_generate(grouped_task=generate_prompt) # Pass in all objects at once\n",
    "  .with_near_text({\n",
    "    \"concepts\": [\"Vacation spots in california\"]\n",
    "  })\n",
    "  .with_limit(3)\n",
    ").do()\n",
    "\n",
    "json_print(result)\n"
   ]
  },
  {
   "cell_type": "code",
   "execution_count": null,
   "id": "79f2935e-f4c7-48e7-b9f9-02861f4db3f5",
   "metadata": {
    "height": 30
   },
   "outputs": [],
   "source": []
  }
 ],
 "metadata": {
  "kernelspec": {
   "display_name": "Python 3 (ipykernel)",
   "language": "python",
   "name": "python3"
  },
  "language_info": {
   "codemirror_mode": {
    "name": "ipython",
    "version": 3
   },
   "file_extension": ".py",
   "mimetype": "text/x-python",
   "name": "python",
   "nbconvert_exporter": "python",
   "pygments_lexer": "ipython3",
   "version": "3.11.4"
  }
 },
 "nbformat": 4,
 "nbformat_minor": 5
}
